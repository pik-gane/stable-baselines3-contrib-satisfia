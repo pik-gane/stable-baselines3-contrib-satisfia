{
 "cells": [
  {
   "cell_type": "code",
   "execution_count": 1,
   "metadata": {
    "collapsed": true,
    "ExecuteTime": {
     "end_time": "2023-06-26T22:41:09.395425740Z",
     "start_time": "2023-06-26T22:41:07.736516481Z"
    }
   },
   "outputs": [
    {
     "name": "stdout",
     "output_type": "stream",
     "text": [
      "pygame 2.4.0 (SDL 2.26.4, Python 3.10.6)\n",
      "Hello from the pygame community. https://www.pygame.org/contribute.html\n"
     ]
    }
   ],
   "source": [
    "import time\n",
    "from os import path\n",
    "\n",
    "import gymnasium as gym\n",
    "import numpy as np\n",
    "from minigrid.wrappers import ImgObsWrapper, FullyObsWrapper\n",
    "from stable_baselines3.common.evaluation import evaluate_policy\n",
    "from stable_baselines3.common.logger import configure\n",
    "from stable_baselines3.common.monitor import Monitor\n",
    "\n",
    "from custom_envs import MultiarmedBanditsEnv\n",
    "from sb3_contrib import ArDQN\n",
    "# from stable_baselines3 import DQN\n",
    "from sb3_contrib.common.satisficing.evaluation import evaluate_policy as ar_evaluate_policy\n",
    "from sb3_contrib.dqn import DQN\n",
    "from utils import open_tensorboard\n",
    "\n",
    "OPEN_TENSORBOARD = True"
   ]
  },
  {
   "cell_type": "markdown",
   "source": [
    "# Setup"
   ],
   "metadata": {
    "collapsed": false
   }
  },
  {
   "cell_type": "code",
   "execution_count": 2,
   "outputs": [],
   "source": [
    "LEARNING_STEPS = 300000\n",
    "env_id = 'MiniGrid-Empty-5x5-v0'\n",
    "partial_env = ImgObsWrapper(gym.make(env_id, max_episode_steps=100, render_mode='rgb_array'))\n",
    "\n",
    "\n",
    "def make_env(render_mode='rgb_array', **kwargs):\n",
    "    return ImgObsWrapper(FullyObsWrapper(gym.make(env_id, max_episode_steps=100, render_mode=render_mode, **kwargs)))\n",
    "\n",
    "\n",
    "env = make_env()\n",
    "# env.reset()[0].shape, partial_env_env.reset()[0].shape"
   ],
   "metadata": {
    "collapsed": false,
    "ExecuteTime": {
     "end_time": "2023-06-26T22:41:09.402957712Z",
     "start_time": "2023-06-26T22:41:09.396018757Z"
    }
   }
  },
  {
   "cell_type": "code",
   "execution_count": 3,
   "outputs": [],
   "source": [
    "LEARNING_STEPS = 30000\n",
    "env_id = 'MultiarmedBandits-1-5-99'\n",
    "\n",
    "\n",
    "def make_env(**kwargs):\n",
    "    return MultiarmedBanditsEnv([1, 5, 99], [0, 0, 0], 1, **kwargs)"
   ],
   "metadata": {
    "collapsed": false,
    "ExecuteTime": {
     "end_time": "2023-06-26T22:41:09.411458934Z",
     "start_time": "2023-06-26T22:41:09.404423180Z"
    }
   }
  },
  {
   "cell_type": "markdown",
   "source": [
    "# Setup Logs"
   ],
   "metadata": {
    "collapsed": false
   }
  },
  {
   "cell_type": "markdown",
   "source": [
    "Log description can be found here: https://stable-baselines3.readthedocs.io/en/master/common/logger.html"
   ],
   "metadata": {
    "collapsed": false
   }
  },
  {
   "cell_type": "code",
   "execution_count": 4,
   "outputs": [
    {
     "name": "stdout",
     "output_type": "stream",
     "text": [
      "Started Tensorboard Server\n",
      "Started Browser\n"
     ]
    }
   ],
   "source": [
    "tmp_path = path.join(\"./logs/tests\", time.strftime(\"%Y%m%d-%H%M%S\"))\n",
    "\n",
    "\n",
    "# set up logger\n",
    "def tb_logger(exp):\n",
    "    return configure(path.join(tmp_path, exp), [\"tensorboard\"])\n",
    "\n",
    "\n",
    "tb_window = None\n",
    "if OPEN_TENSORBOARD:\n",
    "    tb_window = open_tensorboard(tmp_path)"
   ],
   "metadata": {
    "collapsed": false,
    "ExecuteTime": {
     "end_time": "2023-06-26T22:41:09.446602296Z",
     "start_time": "2023-06-26T22:41:09.412168167Z"
    }
   }
  },
  {
   "cell_type": "markdown",
   "source": [
    "# Training"
   ],
   "metadata": {
    "collapsed": false
   }
  },
  {
   "cell_type": "markdown",
   "source": [
    "## DQN"
   ],
   "metadata": {
    "collapsed": false
   }
  },
  {
   "cell_type": "code",
   "execution_count": 5,
   "outputs": [
    {
     "name": "stderr",
     "output_type": "stream",
     "text": [
      "/home/clement/Documents/PIK/sb3-contrib/venv/lib/python3.10/site-packages/torch/cuda/__init__.py:107: UserWarning: CUDA initialization: CUDA unknown error - this may be due to an incorrectly set up environment, e.g. changing env variable CUDA_VISIBLE_DEVICES after program start. Setting the available devices to be zero. (Triggered internally at ../c10/cuda/CUDAFunctions.cpp:109.)\n",
      "  return torch._C._cuda_getDeviceCount() > 0\n"
     ]
    }
   ],
   "source": [
    "env = make_env()\n",
    "model = DQN('MlpPolicy', env, learning_starts=0)\n",
    "# Set new logger\n",
    "dqn_path = path.join(env_id, \"DQN\")\n",
    "model.set_logger(tb_logger(dqn_path))"
   ],
   "metadata": {
    "collapsed": false,
    "ExecuteTime": {
     "end_time": "2023-06-26T22:41:09.489100585Z",
     "start_time": "2023-06-26T22:41:09.444832882Z"
    }
   }
  },
  {
   "cell_type": "markdown",
   "source": [
    "## ArDQN"
   ],
   "metadata": {
    "collapsed": false
   }
  },
  {
   "cell_type": "code",
   "execution_count": 6,
   "outputs": [
    {
     "name": "stderr",
     "output_type": "stream",
     "text": [
      "/home/clement/Documents/PIK/sb3-contrib/venv/lib/python3.10/site-packages/stable_baselines3/common/save_util.py:278: UserWarning: Path 'logs/tests/20230627-004109/MultiarmedBandits-1-5-99/AR_DQN/1.0/models' does not exist. Will create it.\n",
      "  warnings.warn(f\"Path '{path.parent}' does not exist. Will create it.\")\n",
      "ALSA lib conf.c:4120:(snd_config_update_r) Cannot access file /usr/share/alsa/alsa.conf\n",
      "ALSA lib seq.c:935:(snd_seq_open_noupdate) Unknown SEQ default\n",
      "/home/clement/Documents/PIK/sb3-contrib/venv/lib/python3.10/site-packages/stable_baselines3/common/save_util.py:278: UserWarning: Path 'logs/tests/20230627-004109/MultiarmedBandits-1-5-99/AR_DQN/10.9/models' does not exist. Will create it.\n",
      "  warnings.warn(f\"Path '{path.parent}' does not exist. Will create it.\")\n",
      "/home/clement/Documents/PIK/sb3-contrib/venv/lib/python3.10/site-packages/stable_baselines3/common/save_util.py:278: UserWarning: Path 'logs/tests/20230627-004109/MultiarmedBandits-1-5-99/AR_DQN/20.8/models' does not exist. Will create it.\n",
      "  warnings.warn(f\"Path '{path.parent}' does not exist. Will create it.\")\n",
      "/home/clement/Documents/PIK/sb3-contrib/venv/lib/python3.10/site-packages/stable_baselines3/common/save_util.py:278: UserWarning: Path 'logs/tests/20230627-004109/MultiarmedBandits-1-5-99/AR_DQN/30.700000000000003/models' does not exist. Will create it.\n",
      "  warnings.warn(f\"Path '{path.parent}' does not exist. Will create it.\")\n",
      "/home/clement/Documents/PIK/sb3-contrib/venv/lib/python3.10/site-packages/stable_baselines3/common/save_util.py:278: UserWarning: Path 'logs/tests/20230627-004109/MultiarmedBandits-1-5-99/AR_DQN/40.6/models' does not exist. Will create it.\n",
      "  warnings.warn(f\"Path '{path.parent}' does not exist. Will create it.\")\n",
      "/home/clement/Documents/PIK/sb3-contrib/venv/lib/python3.10/site-packages/stable_baselines3/common/save_util.py:278: UserWarning: Path 'logs/tests/20230627-004109/MultiarmedBandits-1-5-99/AR_DQN/50.5/models' does not exist. Will create it.\n",
      "  warnings.warn(f\"Path '{path.parent}' does not exist. Will create it.\")\n",
      "/home/clement/Documents/PIK/sb3-contrib/venv/lib/python3.10/site-packages/stable_baselines3/common/save_util.py:278: UserWarning: Path 'logs/tests/20230627-004109/MultiarmedBandits-1-5-99/AR_DQN/60.400000000000006/models' does not exist. Will create it.\n",
      "  warnings.warn(f\"Path '{path.parent}' does not exist. Will create it.\")\n",
      "/home/clement/Documents/PIK/sb3-contrib/venv/lib/python3.10/site-packages/stable_baselines3/common/save_util.py:278: UserWarning: Path 'logs/tests/20230627-004109/MultiarmedBandits-1-5-99/AR_DQN/70.3/models' does not exist. Will create it.\n",
      "  warnings.warn(f\"Path '{path.parent}' does not exist. Will create it.\")\n",
      "/home/clement/Documents/PIK/sb3-contrib/venv/lib/python3.10/site-packages/stable_baselines3/common/save_util.py:278: UserWarning: Path 'logs/tests/20230627-004109/MultiarmedBandits-1-5-99/AR_DQN/80.2/models' does not exist. Will create it.\n",
      "  warnings.warn(f\"Path '{path.parent}' does not exist. Will create it.\")\n",
      "/home/clement/Documents/PIK/sb3-contrib/venv/lib/python3.10/site-packages/stable_baselines3/common/save_util.py:278: UserWarning: Path 'logs/tests/20230627-004109/MultiarmedBandits-1-5-99/AR_DQN/90.10000000000001/models' does not exist. Will create it.\n",
      "  warnings.warn(f\"Path '{path.parent}' does not exist. Will create it.\")\n",
      "/home/clement/Documents/PIK/sb3-contrib/venv/lib/python3.10/site-packages/stable_baselines3/common/save_util.py:278: UserWarning: Path 'logs/tests/20230627-004109/MultiarmedBandits-1-5-99/AR_DQN/100.0/models' does not exist. Will create it.\n",
      "  warnings.warn(f\"Path '{path.parent}' does not exist. Will create it.\")\n"
     ]
    }
   ],
   "source": [
    "for a in np.linspace(1, 100, num=11):\n",
    "    ar_env = make_env()\n",
    "    initial_aspiration = a\n",
    "    ar_model = ArDQN('MlpPolicy', ar_env, learning_starts=0, policy_kwargs=dict(initial_aspiration=initial_aspiration))\n",
    "    ar_path = path.join(env_id, \"AR_DQN\", str(initial_aspiration))\n",
    "    ar_model.set_logger(tb_logger(ar_path))\n",
    "    ar_model.learn(LEARNING_STEPS)\n",
    "    ar_model.save(path.join(tmp_path, ar_path, \"models\", \"_\".join([str(LEARNING_STEPS)])))"
   ],
   "metadata": {
    "collapsed": false,
    "ExecuteTime": {
     "end_time": "2023-06-26T22:51:20.205511062Z",
     "start_time": "2023-06-26T22:41:18.659951462Z"
    }
   }
  },
  {
   "cell_type": "markdown",
   "source": [
    "## Run"
   ],
   "metadata": {
    "collapsed": false
   }
  },
  {
   "cell_type": "code",
   "execution_count": 16,
   "outputs": [
    {
     "data": {
      "text/plain": "<sb3_contrib.ar_dqn.ar_dqn.ArDQN at 0x7fbea2ea8310>"
     },
     "execution_count": 16,
     "metadata": {},
     "output_type": "execute_result"
    }
   ],
   "source": [],
   "metadata": {
    "collapsed": false,
    "ExecuteTime": {
     "end_time": "2023-06-26T17:09:35.235603303Z",
     "start_time": "2023-06-26T17:04:36.005110300Z"
    }
   }
  },
  {
   "cell_type": "code",
   "execution_count": 8,
   "outputs": [
    {
     "data": {
      "text/plain": "<sb3_contrib.dqn.dqn.DQN at 0x7fbdd901b940>"
     },
     "execution_count": 8,
     "metadata": {},
     "output_type": "execute_result"
    }
   ],
   "source": [
    "model.learn(LEARNING_STEPS)"
   ],
   "metadata": {
    "collapsed": false,
    "ExecuteTime": {
     "end_time": "2023-06-26T16:55:20.461187986Z",
     "start_time": "2023-06-26T16:53:38.198225037Z"
    }
   }
  },
  {
   "cell_type": "markdown",
   "source": [
    "# Evaluation"
   ],
   "metadata": {
    "collapsed": false
   }
  },
  {
   "cell_type": "code",
   "execution_count": 8,
   "outputs": [],
   "source": [
    "h_env = Monitor(make_env(render_mode='human'))"
   ],
   "metadata": {
    "collapsed": false,
    "ExecuteTime": {
     "end_time": "2023-06-26T22:57:08.211721362Z",
     "start_time": "2023-06-26T22:57:08.165155075Z"
    }
   }
  },
  {
   "cell_type": "code",
   "execution_count": 17,
   "outputs": [
    {
     "data": {
      "text/plain": "(99.0, 0.0)"
     },
     "execution_count": 17,
     "metadata": {},
     "output_type": "execute_result"
    }
   ],
   "source": [
    "evaluate_policy(model, h_env, n_eval_episodes=10, render=True)"
   ],
   "metadata": {
    "collapsed": false,
    "ExecuteTime": {
     "end_time": "2023-06-26T17:09:35.236488364Z",
     "start_time": "2023-06-26T17:09:35.235191503Z"
    }
   }
  },
  {
   "cell_type": "code",
   "execution_count": 13,
   "outputs": [],
   "source": [
    "ar_model = ar_model.load(\"logs/tests/20230626-184832/MultiarmedBandits-1-5-99/AR_DQN/50/models/100000.zip\")"
   ],
   "metadata": {
    "collapsed": false,
    "ExecuteTime": {
     "end_time": "2023-06-26T19:58:55.899951669Z",
     "start_time": "2023-06-26T19:58:55.847638444Z"
    }
   }
  },
  {
   "cell_type": "code",
   "execution_count": 19,
   "outputs": [
    {
     "name": "stdout",
     "output_type": "stream",
     "text": [
      "aspiration : 1.0, res : (1.0, 0.0)\n",
      "aspiration : 10.9, res : (11.392, 23.664114942249583)\n",
      "aspiration : 20.8, res : (18.912, 33.37939867642914)\n",
      "aspiration : 30.700000000000003, res : (32.542, 42.78301340485496)\n",
      "aspiration : 40.6, res : (42.13, 45.951965137521604)\n",
      "aspiration : 50.5, res : (51.624, 46.998495975935235)\n",
      "aspiration : 60.400000000000006, res : (60.836, 46.16194432646874)\n",
      "aspiration : 70.3, res : (71.834, 42.61000403661093)\n",
      "aspiration : 80.2, res : (83.114, 35.22668028639656)\n",
      "aspiration : 90.10000000000001, res : (96.744, 14.38660710522116)\n",
      "aspiration : 100.0, res : (99.0, 0.0)\n"
     ]
    }
   ],
   "source": [
    "for a in np.linspace(1, 100, num=11):\n",
    "    ar_path = path.join(env_id, \"AR_DQN\", str(a))\n",
    "    ar_model = ar_model.load(path.join(tmp_path, ar_path, \"models\", \"_\".join([str(LEARNING_STEPS)])))\n",
    "    print(f\"aspiration : {a}, res : {ar_evaluate_policy(ar_model, h_env, n_eval_episodes=1000, render=True)}\")"
   ],
   "metadata": {
    "collapsed": false,
    "ExecuteTime": {
     "end_time": "2023-06-26T23:02:24.268788012Z",
     "start_time": "2023-06-26T23:02:16.532676336Z"
    }
   }
  },
  {
   "cell_type": "code",
   "execution_count": 11,
   "outputs": [
    {
     "name": "stderr",
     "output_type": "stream",
     "text": [
      "/home/clement/Documents/PIK/sb3-contrib/venv/lib/python3.10/site-packages/stable_baselines3/common/save_util.py:278: UserWarning: Path 'logs/tests/20230626-215548/MultiarmedBandits-1-5-99/AR_DQN/50/models' does not exist. Will create it.\n",
      "  warnings.warn(f\"Path '{path.parent}' does not exist. Will create it.\")\n"
     ]
    }
   ],
   "source": [],
   "metadata": {
    "collapsed": false
   }
  },
  {
   "cell_type": "code",
   "execution_count": 22,
   "outputs": [],
   "source": [
    "model.save(path.join(tmp_path, dqn_path, \"models\", \"_\".join([str(LEARNING_STEPS)])))"
   ],
   "metadata": {
    "collapsed": false,
    "ExecuteTime": {
     "end_time": "2023-06-26T17:30:54.723398381Z",
     "start_time": "2023-06-26T17:30:54.681164065Z"
    }
   }
  },
  {
   "cell_type": "code",
   "execution_count": null,
   "outputs": [],
   "source": [],
   "metadata": {
    "collapsed": false
   }
  }
 ],
 "metadata": {
  "kernelspec": {
   "display_name": "Python 3",
   "language": "python",
   "name": "python3"
  },
  "language_info": {
   "codemirror_mode": {
    "name": "ipython",
    "version": 2
   },
   "file_extension": ".py",
   "mimetype": "text/x-python",
   "name": "python",
   "nbconvert_exporter": "python",
   "pygments_lexer": "ipython2",
   "version": "2.7.6"
  }
 },
 "nbformat": 4,
 "nbformat_minor": 0
}
