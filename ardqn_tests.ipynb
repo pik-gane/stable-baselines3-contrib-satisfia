{
 "cells": [
  {
   "cell_type": "code",
   "execution_count": 1,
   "metadata": {
    "collapsed": true,
    "ExecuteTime": {
     "end_time": "2023-06-22T20:37:45.479380450Z",
     "start_time": "2023-06-22T20:37:44.003056468Z"
    }
   },
   "outputs": [
    {
     "name": "stdout",
     "output_type": "stream",
     "text": [
      "pygame 2.4.0 (SDL 2.26.4, Python 3.10.6)\n",
      "Hello from the pygame community. https://www.pygame.org/contribute.html\n"
     ]
    }
   ],
   "source": [
    "import gymnasium as gym\n",
    "from minigrid.wrappers import ImgObsWrapper, FullyObsWrapper\n",
    "# from stable_baselines3 import DQN\n",
    "from stable_baselines3.common.evaluation import evaluate_policy\n",
    "from stable_baselines3.common.logger import configure\n",
    "\n",
    "from sb3_contrib import ArDQN\n",
    "from sb3_contrib.dqn import DQN\n",
    "from utils import open_tensorboard\n",
    "import multiprocessing\n",
    "from os import path"
   ]
  },
  {
   "cell_type": "markdown",
   "source": [
    "# Setup the environment"
   ],
   "metadata": {
    "collapsed": false
   }
  },
  {
   "cell_type": "code",
   "execution_count": 2,
   "outputs": [],
   "source": [
    "env_id = 'MiniGrid-Empty-5x5-v0'\n",
    "env = ImgObsWrapper(gym.make(env_id, max_episode_steps=100, render_mode='rgb_array'))\n",
    "full_env = ImgObsWrapper(FullyObsWrapper(gym.make(env_id, max_episode_steps=100, render_mode='rgb_array')))"
   ],
   "metadata": {
    "collapsed": false,
    "ExecuteTime": {
     "end_time": "2023-06-22T20:37:45.487231470Z",
     "start_time": "2023-06-22T20:37:45.481090658Z"
    }
   }
  },
  {
   "cell_type": "code",
   "execution_count": 3,
   "outputs": [
    {
     "data": {
      "text/plain": "((7, 7, 3), (5, 5, 3))"
     },
     "execution_count": 3,
     "metadata": {},
     "output_type": "execute_result"
    }
   ],
   "source": [
    "env.reset()[0].shape, full_env.reset()[0].shape"
   ],
   "metadata": {
    "collapsed": false,
    "ExecuteTime": {
     "end_time": "2023-06-22T20:37:45.494700387Z",
     "start_time": "2023-06-22T20:37:45.491237647Z"
    }
   }
  },
  {
   "cell_type": "markdown",
   "source": [
    "# Setup Tensorboard"
   ],
   "metadata": {
    "collapsed": false
   }
  },
  {
   "cell_type": "markdown",
   "source": [
    "Log information can be found here: https://stable-baselines3.readthedocs.io/en/master/common/logger.html"
   ],
   "metadata": {
    "collapsed": false
   }
  },
  {
   "cell_type": "code",
   "execution_count": 4,
   "outputs": [
    {
     "name": "stdout",
     "output_type": "stream",
     "text": [
      "Started Tensorboard Server\n",
      "Started Browser\n"
     ]
    }
   ],
   "source": [
    "tmp_path = \"/tmp/sb3_log/\"\n",
    "tb_window = open_tensorboard(tmp_path)\n",
    "\n",
    "# set up logger\n",
    "def tb_logger(exp):\n",
    "    return configure(path.join(tmp_path, exp), [\"tensorboard\"])"
   ],
   "metadata": {
    "collapsed": false,
    "ExecuteTime": {
     "end_time": "2023-06-22T20:37:45.519789259Z",
     "start_time": "2023-06-22T20:37:45.494179230Z"
    }
   }
  },
  {
   "cell_type": "markdown",
   "source": [
    "# Training"
   ],
   "metadata": {
    "collapsed": false
   }
  },
  {
   "cell_type": "markdown",
   "source": [
    "## DQN"
   ],
   "metadata": {
    "collapsed": false
   }
  },
  {
   "cell_type": "code",
   "execution_count": 5,
   "outputs": [],
   "source": [
    "model = DQN('MlpPolicy', env, learning_starts=0)\n",
    "# Set new logger\n",
    "model.set_logger(tb_logger(\"DQN\"))\n",
    "dqn_job = multiprocessing.Process(target=lambda: model.learn(100000))"
   ],
   "metadata": {
    "collapsed": false,
    "ExecuteTime": {
     "end_time": "2023-06-22T20:37:49.942739784Z",
     "start_time": "2023-06-22T20:37:49.278243933Z"
    }
   }
  },
  {
   "cell_type": "markdown",
   "source": [
    "## ArDQN"
   ],
   "metadata": {
    "collapsed": false
   }
  },
  {
   "cell_type": "code",
   "execution_count": 6,
   "outputs": [],
   "source": [
    "env = ImgObsWrapper(gym.make(env_id, max_episode_steps=100, render_mode='rgb_array'))\n",
    "ar_model = ArDQN('MlpPolicy', env, learning_starts=0, policy_kwargs=dict(initial_aspiration=0.5))\n",
    "ar_model.set_logger(tb_logger(\"AR_DQN/0.5\"))"
   ],
   "metadata": {
    "collapsed": false,
    "ExecuteTime": {
     "end_time": "2023-06-22T20:37:53.788592278Z",
     "start_time": "2023-06-22T20:37:53.782421155Z"
    }
   }
  },
  {
   "cell_type": "markdown",
   "source": [
    "## Run"
   ],
   "metadata": {
    "collapsed": false
   }
  },
  {
   "cell_type": "code",
   "execution_count": 7,
   "outputs": [
    {
     "data": {
      "text/plain": "<sb3_contrib.dqn.dqn.DQN at 0x7fd2948a5e70>"
     },
     "execution_count": 7,
     "metadata": {},
     "output_type": "execute_result"
    }
   ],
   "source": [
    "model.learn(300000)"
   ],
   "metadata": {
    "collapsed": false,
    "ExecuteTime": {
     "end_time": "2023-06-22T20:43:07.469154048Z",
     "start_time": "2023-06-22T20:38:08.755269865Z"
    }
   }
  },
  {
   "cell_type": "code",
   "execution_count": 8,
   "outputs": [
    {
     "data": {
      "text/plain": "<sb3_contrib.ar_dqn.ar_dqn.ArDQN at 0x7fd2948a5840>"
     },
     "execution_count": 8,
     "metadata": {},
     "output_type": "execute_result"
    }
   ],
   "source": [
    "ar_model.learn(300000)"
   ],
   "metadata": {
    "collapsed": false,
    "ExecuteTime": {
     "end_time": "2023-06-22T20:58:24.743195248Z",
     "start_time": "2023-06-22T20:43:07.467059154Z"
    }
   }
  },
  {
   "cell_type": "markdown",
   "source": [
    "# Evaluation"
   ],
   "metadata": {
    "collapsed": false
   }
  },
  {
   "cell_type": "code",
   "execution_count": 15,
   "outputs": [
    {
     "name": "stderr",
     "output_type": "stream",
     "text": [
      "/home/clement/Documents/PIK/sb3-contrib/venv/lib/python3.10/site-packages/stable_baselines3/common/evaluation.py:67: UserWarning: Evaluation environment is not wrapped with a ``Monitor`` wrapper. This may result in reporting modified episode lengths and rewards, if other wrappers happen to modify these. Consider wrapping environment first with ``Monitor`` wrapper.\n",
      "  warnings.warn(\n"
     ]
    },
    {
     "data": {
      "text/plain": "(0.9549999833106995, 0.0)"
     },
     "execution_count": 15,
     "metadata": {},
     "output_type": "execute_result"
    }
   ],
   "source": [
    "h_env = ImgObsWrapper(gym.make(env_id, render_mode='human'))\n",
    "evaluate_policy(model, h_env, n_eval_episodes=10, render=True)"
   ],
   "metadata": {
    "collapsed": false,
    "ExecuteTime": {
     "end_time": "2023-06-22T21:01:53.095219357Z",
     "start_time": "2023-06-22T21:01:41.942498610Z"
    }
   }
  },
  {
   "cell_type": "code",
   "execution_count": 21,
   "outputs": [
    {
     "data": {
      "text/plain": "(0.0, 0.0)"
     },
     "execution_count": 21,
     "metadata": {},
     "output_type": "execute_result"
    }
   ],
   "source": [
    "evaluate_policy(ar_model, env, n_eval_episodes=10, render=False)"
   ],
   "metadata": {
    "collapsed": false,
    "ExecuteTime": {
     "end_time": "2023-06-22T21:56:51.932837329Z",
     "start_time": "2023-06-22T21:56:50.963277875Z"
    }
   }
  }
 ],
 "metadata": {
  "kernelspec": {
   "display_name": "Python 3",
   "language": "python",
   "name": "python3"
  },
  "language_info": {
   "codemirror_mode": {
    "name": "ipython",
    "version": 2
   },
   "file_extension": ".py",
   "mimetype": "text/x-python",
   "name": "python",
   "nbconvert_exporter": "python",
   "pygments_lexer": "ipython2",
   "version": "2.7.6"
  }
 },
 "nbformat": 4,
 "nbformat_minor": 0
}
