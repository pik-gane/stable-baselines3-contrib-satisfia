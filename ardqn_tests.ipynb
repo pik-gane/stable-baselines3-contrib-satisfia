{
 "cells": [
  {
   "cell_type": "code",
   "execution_count": 1,
   "metadata": {
    "collapsed": true,
    "ExecuteTime": {
     "end_time": "2023-06-25T22:59:35.863104617Z",
     "start_time": "2023-06-25T22:59:34.232567367Z"
    }
   },
   "outputs": [
    {
     "name": "stdout",
     "output_type": "stream",
     "text": [
      "pygame 2.4.0 (SDL 2.26.4, Python 3.10.6)\n",
      "Hello from the pygame community. https://www.pygame.org/contribute.html\n"
     ]
    }
   ],
   "source": [
    "from os import path\n",
    "import time\n",
    "\n",
    "import gymnasium as gym\n",
    "from minigrid.wrappers import ImgObsWrapper, FullyObsWrapper\n",
    "from stable_baselines3.common.evaluation import evaluate_policy\n",
    "from stable_baselines3.common.logger import configure\n",
    "\n",
    "from custom_envs import MultiarmedBanditsEnv\n",
    "from sb3_contrib import ArDQN\n",
    "# from stable_baselines3 import DQN\n",
    "from sb3_contrib.common.satisficing.evaluation import evaluate_policy as ar_evaluate_policy\n",
    "from sb3_contrib.dqn import DQN\n",
    "from utils import open_tensorboard\n",
    "\n",
    "OPEN_TENSORBOARD = True"
   ]
  },
  {
   "cell_type": "markdown",
   "source": [
    "# Setup"
   ],
   "metadata": {
    "collapsed": false
   }
  },
  {
   "cell_type": "code",
   "execution_count": 2,
   "outputs": [],
   "source": [
    "LEARNING_STEPS = 300000\n",
    "env_id = 'MiniGrid-Empty-5x5-v0'\n",
    "partial_env = ImgObsWrapper(gym.make(env_id, max_episode_steps=100, render_mode='rgb_array'))\n",
    "\n",
    "\n",
    "def make_env(render_mode='rgb_array', **kwargs):\n",
    "    return ImgObsWrapper(FullyObsWrapper(gym.make(env_id, max_episode_steps=100, render_mode=render_mode, **kwargs)))\n",
    "\n",
    "\n",
    "env = make_env()\n",
    "# env.reset()[0].shape, partial_env_env.reset()[0].shape"
   ],
   "metadata": {
    "collapsed": false,
    "ExecuteTime": {
     "end_time": "2023-06-25T22:59:35.872330757Z",
     "start_time": "2023-06-25T22:59:35.865698851Z"
    }
   }
  },
  {
   "cell_type": "code",
   "execution_count": 24,
   "outputs": [],
   "source": [
    "LEARNING_STEPS = 100000\n",
    "env_id = 'MultiarmedBandits-1-5-99'\n",
    "\n",
    "\n",
    "def make_env(**kwargs):\n",
    "    return MultiarmedBanditsEnv([1, 5, 99], [0, 0, 0], **kwargs)"
   ],
   "metadata": {
    "collapsed": false,
    "ExecuteTime": {
     "end_time": "2023-06-25T23:17:52.553471832Z",
     "start_time": "2023-06-25T23:17:52.505218509Z"
    }
   }
  },
  {
   "cell_type": "markdown",
   "source": [
    "# Setup Logs"
   ],
   "metadata": {
    "collapsed": false
   }
  },
  {
   "cell_type": "markdown",
   "source": [
    "Log description can be found here: https://stable-baselines3.readthedocs.io/en/master/common/logger.html"
   ],
   "metadata": {
    "collapsed": false
   }
  },
  {
   "cell_type": "code",
   "execution_count": 25,
   "outputs": [
    {
     "name": "stdout",
     "output_type": "stream",
     "text": [
      "Started Tensorboard Server\n",
      "Started Browser\n"
     ]
    }
   ],
   "source": [
    "tmp_path = path.join(\"./logs/tests\", time.strftime(\"%Y%m%d-%H%M%S\"))\n",
    "\n",
    "\n",
    "# set up logger\n",
    "def tb_logger(exp):\n",
    "    return configure(path.join(tmp_path, exp), [\"tensorboard\"])\n",
    "\n",
    "\n",
    "tb_window = None\n",
    "if OPEN_TENSORBOARD:\n",
    "    tb_window = open_tensorboard(tmp_path)"
   ],
   "metadata": {
    "collapsed": false,
    "ExecuteTime": {
     "end_time": "2023-06-25T23:17:54.354190333Z",
     "start_time": "2023-06-25T23:17:54.313446697Z"
    }
   }
  },
  {
   "cell_type": "markdown",
   "source": [
    "# Training"
   ],
   "metadata": {
    "collapsed": false
   }
  },
  {
   "cell_type": "markdown",
   "source": [
    "## DQN"
   ],
   "metadata": {
    "collapsed": false
   }
  },
  {
   "cell_type": "code",
   "execution_count": 26,
   "outputs": [],
   "source": [
    "env = make_env()\n",
    "model = DQN('MlpPolicy', env, learning_starts=0)\n",
    "# Set new logger\n",
    "dqn_path = path.join(env_id, \"DQN\")\n",
    "model.set_logger(tb_logger(dqn_path))"
   ],
   "metadata": {
    "collapsed": false,
    "ExecuteTime": {
     "end_time": "2023-06-25T23:17:57.728522831Z",
     "start_time": "2023-06-25T23:17:57.707561232Z"
    }
   }
  },
  {
   "cell_type": "markdown",
   "source": [
    "## ArDQN"
   ],
   "metadata": {
    "collapsed": false
   }
  },
  {
   "cell_type": "code",
   "execution_count": 36,
   "outputs": [],
   "source": [
    "ar_env = make_env()\n",
    "initial_aspiration = 100\n",
    "ar_model = ArDQN('MlpPolicy', ar_env, learning_starts=0, policy_kwargs=dict(initial_aspiration=initial_aspiration))\n",
    "ar_path = path.join(env_id, \"AR_DQN\", str(initial_aspiration))\n",
    "ar_model.set_logger(tb_logger(ar_path))"
   ],
   "metadata": {
    "collapsed": false,
    "ExecuteTime": {
     "end_time": "2023-06-25T23:27:10.677976747Z",
     "start_time": "2023-06-25T23:27:10.632990808Z"
    }
   }
  },
  {
   "cell_type": "markdown",
   "source": [
    "## Run"
   ],
   "metadata": {
    "collapsed": false
   }
  },
  {
   "cell_type": "code",
   "execution_count": 37,
   "outputs": [
    {
     "data": {
      "text/plain": "<sb3_contrib.ar_dqn.ar_dqn.ArDQN at 0x7fd4e944ccd0>"
     },
     "execution_count": 37,
     "metadata": {},
     "output_type": "execute_result"
    }
   ],
   "source": [
    "ar_model.learn(LEARNING_STEPS)"
   ],
   "metadata": {
    "collapsed": false,
    "ExecuteTime": {
     "end_time": "2023-06-25T23:32:01.763747610Z",
     "start_time": "2023-06-25T23:27:14.498630411Z"
    }
   }
  },
  {
   "cell_type": "code",
   "execution_count": 29,
   "outputs": [
    {
     "data": {
      "text/plain": "<sb3_contrib.dqn.dqn.DQN at 0x7fd4e944cb50>"
     },
     "execution_count": 29,
     "metadata": {},
     "output_type": "execute_result"
    }
   ],
   "source": [
    "model.learn(LEARNING_STEPS)"
   ],
   "metadata": {
    "collapsed": false,
    "ExecuteTime": {
     "end_time": "2023-06-25T23:24:13.461924215Z",
     "start_time": "2023-06-25T23:22:47.526057849Z"
    }
   }
  },
  {
   "cell_type": "markdown",
   "source": [
    "# Evaluation"
   ],
   "metadata": {
    "collapsed": false
   }
  },
  {
   "cell_type": "code",
   "execution_count": 30,
   "outputs": [
    {
     "name": "stderr",
     "output_type": "stream",
     "text": [
      "/home/clement/Documents/PIK/sb3-contrib/venv/lib/python3.10/site-packages/stable_baselines3/common/evaluation.py:67: UserWarning: Evaluation environment is not wrapped with a ``Monitor`` wrapper. This may result in reporting modified episode lengths and rewards, if other wrappers happen to modify these. Consider wrapping environment first with ``Monitor`` wrapper.\n",
      "  warnings.warn(\n",
      "/home/clement/Documents/PIK/sb3-contrib/venv/lib/python3.10/site-packages/stable_baselines3/common/vec_env/base_vec_env.py:225: UserWarning: You tried to call render() but no `render_mode` was passed to the env constructor.\n",
      "  warnings.warn(\"You tried to call render() but no `render_mode` was passed to the env constructor.\")\n"
     ]
    },
    {
     "data": {
      "text/plain": "(297.0, 0.0)"
     },
     "execution_count": 30,
     "metadata": {},
     "output_type": "execute_result"
    }
   ],
   "source": [
    "h_env = make_env(render_mode='human')\n",
    "evaluate_policy(model, h_env, n_eval_episodes=10, render=True)"
   ],
   "metadata": {
    "collapsed": false,
    "ExecuteTime": {
     "end_time": "2023-06-25T23:24:13.464124235Z",
     "start_time": "2023-06-25T23:24:13.462194224Z"
    }
   }
  },
  {
   "cell_type": "code",
   "execution_count": 31,
   "outputs": [
    {
     "name": "stderr",
     "output_type": "stream",
     "text": [
      "/home/clement/Documents/PIK/sb3-contrib/sb3_contrib/common/satisficing/evaluation.py:66: UserWarning: Evaluation environment is not wrapped with a ``Monitor`` wrapper. This may result in reporting modified episode lengths and rewards, if other wrappers happen to modify these. Consider wrapping environment first with ``Monitor`` wrapper.\n",
      "  warnings.warn(\n"
     ]
    },
    {
     "data": {
      "text/plain": "(3.0, 0.0)"
     },
     "execution_count": 31,
     "metadata": {},
     "output_type": "execute_result"
    }
   ],
   "source": [
    "h_env = make_env(render_mode='human')\n",
    "ar_evaluate_policy(ar_model, h_env, n_eval_episodes=100, render=True)"
   ],
   "metadata": {
    "collapsed": false,
    "ExecuteTime": {
     "end_time": "2023-06-25T23:24:13.958147337Z",
     "start_time": "2023-06-25T23:24:13.462416251Z"
    }
   }
  },
  {
   "cell_type": "code",
   "execution_count": 34,
   "outputs": [
    {
     "name": "stderr",
     "output_type": "stream",
     "text": [
      "/home/clement/Documents/PIK/sb3-contrib/venv/lib/python3.10/site-packages/stable_baselines3/common/save_util.py:278: UserWarning: Path 'logs/tests/MultiarmedBandits-1-5-99/AR_DQN/15/models' does not exist. Will create it.\n",
      "  warnings.warn(f\"Path '{path.parent}' does not exist. Will create it.\")\n"
     ]
    }
   ],
   "source": [
    "ar_model.save(path.join(tmp_path,ar_path, \"models\", \"_\".join([str(LEARNING_STEPS)])))"
   ],
   "metadata": {
    "collapsed": false,
    "ExecuteTime": {
     "end_time": "2023-06-25T23:25:13.662554393Z",
     "start_time": "2023-06-25T23:25:13.619438187Z"
    }
   }
  },
  {
   "cell_type": "code",
   "execution_count": 35,
   "outputs": [
    {
     "data": {
      "text/plain": "'./logs/tests/MultiarmedBandits-1-5-99/AR_DQN/15/models/100000'"
     },
     "execution_count": 35,
     "metadata": {},
     "output_type": "execute_result"
    }
   ],
   "source": [
    "path.join(tmp_path,ar_path, \"models\", str(LEARNING_STEPS) + \"_steps\")"
   ],
   "metadata": {
    "collapsed": false,
    "ExecuteTime": {
     "end_time": "2023-06-25T23:25:30.696113050Z",
     "start_time": "2023-06-25T23:25:30.693599160Z"
    }
   }
  },
  {
   "cell_type": "code",
   "execution_count": null,
   "outputs": [],
   "source": [],
   "metadata": {
    "collapsed": false
   }
  }
 ],
 "metadata": {
  "kernelspec": {
   "display_name": "Python 3",
   "language": "python",
   "name": "python3"
  },
  "language_info": {
   "codemirror_mode": {
    "name": "ipython",
    "version": 2
   },
   "file_extension": ".py",
   "mimetype": "text/x-python",
   "name": "python",
   "nbconvert_exporter": "python",
   "pygments_lexer": "ipython2",
   "version": "2.7.6"
  }
 },
 "nbformat": 4,
 "nbformat_minor": 0
}
