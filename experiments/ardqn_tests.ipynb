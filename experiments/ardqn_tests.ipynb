{
 "cells": [
  {
   "cell_type": "code",
   "execution_count": 16,
   "metadata": {
    "collapsed": true,
    "ExecuteTime": {
     "end_time": "2023-06-30T14:43:10.399350798Z",
     "start_time": "2023-06-30T14:43:10.396096544Z"
    }
   },
   "outputs": [],
   "source": [
    "import time\n",
    "from os import path\n",
    "\n",
    "import gymnasium as gym\n",
    "import numpy as np\n",
    "from matplotlib import pyplot as plt\n",
    "from minigrid.wrappers import ImgObsWrapper, FullyObsWrapper\n",
    "from stable_baselines3.common.evaluation import evaluate_policy\n",
    "from stable_baselines3.common.logger import configure\n",
    "from stable_baselines3.common.monitor import Monitor\n",
    "from tqdm.notebook import tqdm\n",
    "\n",
    "from custom_envs import MultiarmedBanditsEnv\n",
    "from sb3_contrib import ArDQN, QLearning\n",
    "# from stable_baselines3 import DQN\n",
    "from sb3_contrib.common.satisficing.evaluation import evaluate_policy as ar_evaluate_policy\n",
    "from sb3_contrib.dqn import DQN\n",
    "from utils import open_tensorboard\n",
    "\n",
    "OPEN_TENSORBOARD = True\n",
    "experiment = time.strftime(\"%Y%m%d-%H%M%S\")\n",
    "# experiment = \"20230629-112759\""
   ]
  },
  {
   "cell_type": "markdown",
   "source": [
    "# Setup"
   ],
   "metadata": {
    "collapsed": false
   }
  },
  {
   "cell_type": "code",
   "execution_count": 7,
   "outputs": [],
   "source": [
    "# LEARNING_STEPS = 300000\n",
    "# env_id = 'MiniGrid-Empty-5x5-v0'\n",
    "# partial_env = ImgObsWrapper(gym.make(env_id, max_episode_steps=100, render_mode='rgb_array'))\n",
    "#\n",
    "#\n",
    "# def make_env(render_mode='rgb_array', **kwargs):\n",
    "#     return ImgObsWrapper(FullyObsWrapper(gym.make(env_id, max_episode_steps=100, render_mode=render_mode, **kwargs)))\n",
    "#\n",
    "#\n",
    "# env = make_env()\n",
    "# # env.reset()[0].shape, partial_env_env.reset()[0].shape"
   ],
   "metadata": {
    "collapsed": false,
    "ExecuteTime": {
     "end_time": "2023-06-29T09:59:44.049236061Z",
     "start_time": "2023-06-29T09:59:44.046677566Z"
    }
   }
  },
  {
   "cell_type": "code",
   "execution_count": 6,
   "outputs": [],
   "source": [
    "LEARNING_STEPS = 200_000\n",
    "values = [0, 5, 50, 100]\n",
    "variances = [0, 0, 0, 0]\n",
    "nb_step = 10\n",
    "env_id = 'MultiarmedBandits_' + '-'.join(str(i) for i in values) + f'_{nb_step}steps'\n",
    "\n",
    "\n",
    "def make_env(obs_type = \"one_hot\",**kwargs):\n",
    "    return MultiarmedBanditsEnv(values, variances, nb_step, obs_type=obs_type, **kwargs)"
   ],
   "metadata": {
    "collapsed": false,
    "ExecuteTime": {
     "end_time": "2023-06-30T14:40:56.271319737Z",
     "start_time": "2023-06-30T14:40:56.267205876Z"
    }
   }
  },
  {
   "cell_type": "markdown",
   "source": [
    "# Setup Logs"
   ],
   "metadata": {
    "collapsed": false
   }
  },
  {
   "cell_type": "markdown",
   "source": [
    "Log description can be found here: https://stable-baselines3.readthedocs.io/en/master/common/logger.html"
   ],
   "metadata": {
    "collapsed": false
   }
  },
  {
   "cell_type": "code",
   "execution_count": 7,
   "outputs": [
    {
     "name": "stdout",
     "output_type": "stream",
     "text": [
      "Started Tensorboard Server\n",
      "Started Browser\n"
     ]
    }
   ],
   "source": [
    "tmp_path = path.join(\"./logs/tests\", experiment)\n",
    "\n",
    "\n",
    "# set up logger\n",
    "def tb_logger(exp):\n",
    "    return configure(path.join(tmp_path, exp), [\"tensorboard\"])\n",
    "\n",
    "\n",
    "tb_window = None\n",
    "if OPEN_TENSORBOARD:\n",
    "    tb_window = open_tensorboard(tmp_path)"
   ],
   "metadata": {
    "collapsed": false,
    "ExecuteTime": {
     "end_time": "2023-06-30T14:40:57.846887931Z",
     "start_time": "2023-06-30T14:40:57.818758238Z"
    }
   }
  },
  {
   "cell_type": "markdown",
   "source": [
    "# Training"
   ],
   "metadata": {
    "collapsed": false
   }
  },
  {
   "cell_type": "markdown",
   "source": [
    "## DQN"
   ],
   "metadata": {
    "collapsed": false
   }
  },
  {
   "cell_type": "code",
   "execution_count": 13,
   "outputs": [
    {
     "data": {
      "text/plain": "(array([1., 0., 0., 0., 0., 0., 0., 0., 0., 0.]), {'optimal': 3})"
     },
     "execution_count": 13,
     "metadata": {},
     "output_type": "execute_result"
    }
   ],
   "source": [
    "env = make_env()\n",
    "env.reset()"
   ],
   "metadata": {
    "collapsed": false,
    "ExecuteTime": {
     "end_time": "2023-06-29T10:01:15.238383973Z",
     "start_time": "2023-06-29T10:01:15.194519739Z"
    }
   }
  },
  {
   "cell_type": "code",
   "execution_count": 5,
   "outputs": [
    {
     "name": "stderr",
     "output_type": "stream",
     "text": [
      "/home/clement/Documents/PIK/sb3-contrib/venv/lib/python3.10/site-packages/torch/cuda/__init__.py:107: UserWarning: CUDA initialization: CUDA unknown error - this may be due to an incorrectly set up environment, e.g. changing env variable CUDA_VISIBLE_DEVICES after program start. Setting the available devices to be zero. (Triggered internally at ../c10/cuda/CUDAFunctions.cpp:109.)\n",
      "  return torch._C._cuda_getDeviceCount() > 0\n",
      "/bin/bash: warning: setlocale: LC_ALL: cannot change locale (en_US.UTF-8)\n"
     ]
    },
    {
     "data": {
      "text/plain": "<sb3_contrib.dqn.dqn.DQN at 0x7fc0d97558d0>"
     },
     "execution_count": 5,
     "metadata": {},
     "output_type": "execute_result"
    }
   ],
   "source": [
    "env = make_env()\n",
    "model = DQN('MlpPolicy', env, learning_starts=0)\n",
    "# Set new logger\n",
    "dqn_path = path.join(env_id, \"DQN\")\n",
    "model.set_logger(tb_logger(dqn_path))\n",
    "model.learn(LEARNING_STEPS)"
   ],
   "metadata": {
    "collapsed": false,
    "ExecuteTime": {
     "end_time": "2023-06-28T09:36:55.399687127Z",
     "start_time": "2023-06-28T09:25:17.684950869Z"
    }
   }
  },
  {
   "cell_type": "markdown",
   "source": [
    "## ArDQN"
   ],
   "metadata": {
    "collapsed": false
   }
  },
  {
   "cell_type": "code",
   "execution_count": 15,
   "outputs": [
    {
     "name": "stdout",
     "output_type": "stream",
     "text": [
      "aspiration : 100, res : 711+/-181\n"
     ]
    }
   ],
   "source": [
    "eval_env = Monitor(make_env())\n",
    "(e, std), _ = ar_evaluate_policy(ar_model, eval_env, n_eval_episodes=500)\n",
    "print(f\"aspiration : {round(100)}, res : {round(e)}+/-{round(std)}\")"
   ],
   "metadata": {
    "collapsed": false
   }
  },
  {
   "cell_type": "code",
   "execution_count": 16,
   "outputs": [
    {
     "data": {
      "text/plain": "  0%|          | 0/3 [00:00<?, ?it/s]",
      "application/vnd.jupyter.widget-view+json": {
       "version_major": 2,
       "version_minor": 0,
       "model_id": "d6a7276a159246baa9e88965ec915e5e"
      }
     },
     "metadata": {},
     "output_type": "display_data"
    },
    {
     "ename": "ValueError",
     "evalue": "setting an array element with a sequence.",
     "output_type": "error",
     "traceback": [
      "\u001B[0;31m---------------------------------------------------------------------------\u001B[0m",
      "\u001B[0;31mTypeError\u001B[0m                                 Traceback (most recent call last)",
      "\u001B[0;31mTypeError\u001B[0m: only size-1 arrays can be converted to Python scalars",
      "\nThe above exception was the direct cause of the following exception:\n",
      "\u001B[0;31mValueError\u001B[0m                                Traceback (most recent call last)",
      "Cell \u001B[0;32mIn[16], line 10\u001B[0m\n\u001B[1;32m      8\u001B[0m ar_path \u001B[38;5;241m=\u001B[39m path\u001B[38;5;241m.\u001B[39mjoin(env_id, \u001B[38;5;124m\"\u001B[39m\u001B[38;5;124mAR_DQN\u001B[39m\u001B[38;5;124m\"\u001B[39m, \u001B[38;5;28mstr\u001B[39m(\u001B[38;5;28mround\u001B[39m(initial_aspiration, \u001B[38;5;241m1\u001B[39m)))\n\u001B[1;32m      9\u001B[0m ar_model\u001B[38;5;241m.\u001B[39mset_logger(tb_logger(ar_path))\n\u001B[0;32m---> 10\u001B[0m \u001B[43mar_model\u001B[49m\u001B[38;5;241;43m.\u001B[39;49m\u001B[43mlearn\u001B[49m\u001B[43m(\u001B[49m\u001B[43mLEARNING_STEPS\u001B[49m\u001B[43m)\u001B[49m\n\u001B[1;32m     11\u001B[0m (e, std), _ \u001B[38;5;241m=\u001B[39m ar_evaluate_policy(ar_model, eval_env, n_eval_episodes\u001B[38;5;241m=\u001B[39m\u001B[38;5;241m500\u001B[39m)\n\u001B[1;32m     12\u001B[0m \u001B[38;5;28mprint\u001B[39m(\u001B[38;5;124mf\u001B[39m\u001B[38;5;124m\"\u001B[39m\u001B[38;5;124maspiration : \u001B[39m\u001B[38;5;132;01m{\u001B[39;00m\u001B[38;5;28mround\u001B[39m(a)\u001B[38;5;132;01m}\u001B[39;00m\u001B[38;5;124m, res : \u001B[39m\u001B[38;5;132;01m{\u001B[39;00m\u001B[38;5;28mround\u001B[39m(e)\u001B[38;5;132;01m}\u001B[39;00m\u001B[38;5;124m+/-\u001B[39m\u001B[38;5;132;01m{\u001B[39;00m\u001B[38;5;28mround\u001B[39m(std)\u001B[38;5;132;01m}\u001B[39;00m\u001B[38;5;124m\"\u001B[39m)\n",
      "File \u001B[0;32m~/Documents/PIK/sb3-contrib/sb3_contrib/ar_dqn/ar_dqn.py:242\u001B[0m, in \u001B[0;36mArDQN.learn\u001B[0;34m(self, total_timesteps, callback, log_interval, tb_log_name, reset_num_timesteps, progress_bar)\u001B[0m\n\u001B[1;32m    233\u001B[0m \u001B[38;5;28;01mdef\u001B[39;00m \u001B[38;5;21mlearn\u001B[39m(\n\u001B[1;32m    234\u001B[0m     \u001B[38;5;28mself\u001B[39m: SelfArDQN,\n\u001B[1;32m    235\u001B[0m     total_timesteps: \u001B[38;5;28mint\u001B[39m,\n\u001B[0;32m   (...)\u001B[0m\n\u001B[1;32m    240\u001B[0m     progress_bar: \u001B[38;5;28mbool\u001B[39m \u001B[38;5;241m=\u001B[39m \u001B[38;5;28;01mFalse\u001B[39;00m,\n\u001B[1;32m    241\u001B[0m ) \u001B[38;5;241m-\u001B[39m\u001B[38;5;241m>\u001B[39m SelfArDQN:\n\u001B[0;32m--> 242\u001B[0m     \u001B[38;5;28;01mreturn\u001B[39;00m \u001B[38;5;28;43msuper\u001B[39;49m\u001B[43m(\u001B[49m\u001B[43m)\u001B[49m\u001B[38;5;241;43m.\u001B[39;49m\u001B[43mlearn\u001B[49m\u001B[43m(\u001B[49m\n\u001B[1;32m    243\u001B[0m \u001B[43m        \u001B[49m\u001B[43mtotal_timesteps\u001B[49m\u001B[38;5;241;43m=\u001B[39;49m\u001B[43mtotal_timesteps\u001B[49m\u001B[43m,\u001B[49m\n\u001B[1;32m    244\u001B[0m \u001B[43m        \u001B[49m\u001B[43mcallback\u001B[49m\u001B[38;5;241;43m=\u001B[39;49m\u001B[43mcallback\u001B[49m\u001B[43m,\u001B[49m\n\u001B[1;32m    245\u001B[0m \u001B[43m        \u001B[49m\u001B[43mlog_interval\u001B[49m\u001B[38;5;241;43m=\u001B[39;49m\u001B[43mlog_interval\u001B[49m\u001B[43m,\u001B[49m\n\u001B[1;32m    246\u001B[0m \u001B[43m        \u001B[49m\u001B[43mtb_log_name\u001B[49m\u001B[38;5;241;43m=\u001B[39;49m\u001B[43mtb_log_name\u001B[49m\u001B[43m,\u001B[49m\n\u001B[1;32m    247\u001B[0m \u001B[43m        \u001B[49m\u001B[43mreset_num_timesteps\u001B[49m\u001B[38;5;241;43m=\u001B[39;49m\u001B[43mreset_num_timesteps\u001B[49m\u001B[43m,\u001B[49m\n\u001B[1;32m    248\u001B[0m \u001B[43m        \u001B[49m\u001B[43mprogress_bar\u001B[49m\u001B[38;5;241;43m=\u001B[39;49m\u001B[43mprogress_bar\u001B[49m\u001B[43m,\u001B[49m\n\u001B[1;32m    249\u001B[0m \u001B[43m    \u001B[49m\u001B[43m)\u001B[49m\n",
      "File \u001B[0;32m~/Documents/PIK/sb3-contrib/venv/lib/python3.10/site-packages/stable_baselines3/dqn/dqn.py:267\u001B[0m, in \u001B[0;36mDQN.learn\u001B[0;34m(self, total_timesteps, callback, log_interval, tb_log_name, reset_num_timesteps, progress_bar)\u001B[0m\n\u001B[1;32m    258\u001B[0m \u001B[38;5;28;01mdef\u001B[39;00m \u001B[38;5;21mlearn\u001B[39m(\n\u001B[1;32m    259\u001B[0m     \u001B[38;5;28mself\u001B[39m: SelfDQN,\n\u001B[1;32m    260\u001B[0m     total_timesteps: \u001B[38;5;28mint\u001B[39m,\n\u001B[0;32m   (...)\u001B[0m\n\u001B[1;32m    265\u001B[0m     progress_bar: \u001B[38;5;28mbool\u001B[39m \u001B[38;5;241m=\u001B[39m \u001B[38;5;28;01mFalse\u001B[39;00m,\n\u001B[1;32m    266\u001B[0m ) \u001B[38;5;241m-\u001B[39m\u001B[38;5;241m>\u001B[39m SelfDQN:\n\u001B[0;32m--> 267\u001B[0m     \u001B[38;5;28;01mreturn\u001B[39;00m \u001B[38;5;28;43msuper\u001B[39;49m\u001B[43m(\u001B[49m\u001B[43m)\u001B[49m\u001B[38;5;241;43m.\u001B[39;49m\u001B[43mlearn\u001B[49m\u001B[43m(\u001B[49m\n\u001B[1;32m    268\u001B[0m \u001B[43m        \u001B[49m\u001B[43mtotal_timesteps\u001B[49m\u001B[38;5;241;43m=\u001B[39;49m\u001B[43mtotal_timesteps\u001B[49m\u001B[43m,\u001B[49m\n\u001B[1;32m    269\u001B[0m \u001B[43m        \u001B[49m\u001B[43mcallback\u001B[49m\u001B[38;5;241;43m=\u001B[39;49m\u001B[43mcallback\u001B[49m\u001B[43m,\u001B[49m\n\u001B[1;32m    270\u001B[0m \u001B[43m        \u001B[49m\u001B[43mlog_interval\u001B[49m\u001B[38;5;241;43m=\u001B[39;49m\u001B[43mlog_interval\u001B[49m\u001B[43m,\u001B[49m\n\u001B[1;32m    271\u001B[0m \u001B[43m        \u001B[49m\u001B[43mtb_log_name\u001B[49m\u001B[38;5;241;43m=\u001B[39;49m\u001B[43mtb_log_name\u001B[49m\u001B[43m,\u001B[49m\n\u001B[1;32m    272\u001B[0m \u001B[43m        \u001B[49m\u001B[43mreset_num_timesteps\u001B[49m\u001B[38;5;241;43m=\u001B[39;49m\u001B[43mreset_num_timesteps\u001B[49m\u001B[43m,\u001B[49m\n\u001B[1;32m    273\u001B[0m \u001B[43m        \u001B[49m\u001B[43mprogress_bar\u001B[49m\u001B[38;5;241;43m=\u001B[39;49m\u001B[43mprogress_bar\u001B[49m\u001B[43m,\u001B[49m\n\u001B[1;32m    274\u001B[0m \u001B[43m    \u001B[49m\u001B[43m)\u001B[49m\n",
      "File \u001B[0;32m~/Documents/PIK/sb3-contrib/venv/lib/python3.10/site-packages/stable_baselines3/common/off_policy_algorithm.py:301\u001B[0m, in \u001B[0;36mOffPolicyAlgorithm.learn\u001B[0;34m(self, total_timesteps, callback, log_interval, tb_log_name, reset_num_timesteps, progress_bar)\u001B[0m\n\u001B[1;32m    292\u001B[0m \u001B[38;5;28;01mdef\u001B[39;00m \u001B[38;5;21mlearn\u001B[39m(\n\u001B[1;32m    293\u001B[0m     \u001B[38;5;28mself\u001B[39m: SelfOffPolicyAlgorithm,\n\u001B[1;32m    294\u001B[0m     total_timesteps: \u001B[38;5;28mint\u001B[39m,\n\u001B[0;32m   (...)\u001B[0m\n\u001B[1;32m    299\u001B[0m     progress_bar: \u001B[38;5;28mbool\u001B[39m \u001B[38;5;241m=\u001B[39m \u001B[38;5;28;01mFalse\u001B[39;00m,\n\u001B[1;32m    300\u001B[0m ) \u001B[38;5;241m-\u001B[39m\u001B[38;5;241m>\u001B[39m SelfOffPolicyAlgorithm:\n\u001B[0;32m--> 301\u001B[0m     total_timesteps, callback \u001B[38;5;241m=\u001B[39m \u001B[38;5;28;43mself\u001B[39;49m\u001B[38;5;241;43m.\u001B[39;49m\u001B[43m_setup_learn\u001B[49m\u001B[43m(\u001B[49m\n\u001B[1;32m    302\u001B[0m \u001B[43m        \u001B[49m\u001B[43mtotal_timesteps\u001B[49m\u001B[43m,\u001B[49m\n\u001B[1;32m    303\u001B[0m \u001B[43m        \u001B[49m\u001B[43mcallback\u001B[49m\u001B[43m,\u001B[49m\n\u001B[1;32m    304\u001B[0m \u001B[43m        \u001B[49m\u001B[43mreset_num_timesteps\u001B[49m\u001B[43m,\u001B[49m\n\u001B[1;32m    305\u001B[0m \u001B[43m        \u001B[49m\u001B[43mtb_log_name\u001B[49m\u001B[43m,\u001B[49m\n\u001B[1;32m    306\u001B[0m \u001B[43m        \u001B[49m\u001B[43mprogress_bar\u001B[49m\u001B[43m,\u001B[49m\n\u001B[1;32m    307\u001B[0m \u001B[43m    \u001B[49m\u001B[43m)\u001B[49m\n\u001B[1;32m    309\u001B[0m     callback\u001B[38;5;241m.\u001B[39mon_training_start(\u001B[38;5;28mlocals\u001B[39m(), \u001B[38;5;28mglobals\u001B[39m())\n\u001B[1;32m    311\u001B[0m     \u001B[38;5;28;01mwhile\u001B[39;00m \u001B[38;5;28mself\u001B[39m\u001B[38;5;241m.\u001B[39mnum_timesteps \u001B[38;5;241m<\u001B[39m total_timesteps:\n",
      "File \u001B[0;32m~/Documents/PIK/sb3-contrib/sb3_contrib/ar_dqn/ar_dqn.py:461\u001B[0m, in \u001B[0;36mArDQN._setup_learn\u001B[0;34m(self, total_timesteps, callback, reset_num_timesteps, tb_log_name, progress_bar)\u001B[0m\n\u001B[1;32m    451\u001B[0m \u001B[38;5;28;01mdef\u001B[39;00m \u001B[38;5;21m_setup_learn\u001B[39m(\n\u001B[1;32m    452\u001B[0m     \u001B[38;5;28mself\u001B[39m,\n\u001B[1;32m    453\u001B[0m     total_timesteps: \u001B[38;5;28mint\u001B[39m,\n\u001B[0;32m   (...)\u001B[0m\n\u001B[1;32m    458\u001B[0m ) \u001B[38;5;241m-\u001B[39m\u001B[38;5;241m>\u001B[39m Tuple[\u001B[38;5;28mint\u001B[39m, BaseCallback]:\n\u001B[1;32m    459\u001B[0m     \u001B[38;5;66;03m# check if _last_obs and env will be reset in the super call of base_class\u001B[39;00m\n\u001B[1;32m    460\u001B[0m     reset \u001B[38;5;241m=\u001B[39m reset_num_timesteps \u001B[38;5;129;01mor\u001B[39;00m \u001B[38;5;28mself\u001B[39m\u001B[38;5;241m.\u001B[39m_last_obs \u001B[38;5;129;01mis\u001B[39;00m \u001B[38;5;28;01mNone\u001B[39;00m\n\u001B[0;32m--> 461\u001B[0m     r \u001B[38;5;241m=\u001B[39m \u001B[38;5;28;43msuper\u001B[39;49m\u001B[43m(\u001B[49m\u001B[43m)\u001B[49m\u001B[38;5;241;43m.\u001B[39;49m\u001B[43m_setup_learn\u001B[49m\u001B[43m(\u001B[49m\u001B[43mtotal_timesteps\u001B[49m\u001B[43m,\u001B[49m\u001B[43m \u001B[49m\u001B[43mcallback\u001B[49m\u001B[43m,\u001B[49m\u001B[43m \u001B[49m\u001B[43mreset_num_timesteps\u001B[49m\u001B[43m,\u001B[49m\u001B[43m \u001B[49m\u001B[43mtb_log_name\u001B[49m\u001B[43m,\u001B[49m\u001B[43m \u001B[49m\u001B[43mprogress_bar\u001B[49m\u001B[43m)\u001B[49m\n\u001B[1;32m    462\u001B[0m     \u001B[38;5;28;01mif\u001B[39;00m reset:\n\u001B[1;32m    463\u001B[0m         training_mode \u001B[38;5;241m=\u001B[39m \u001B[38;5;28mself\u001B[39m\u001B[38;5;241m.\u001B[39mpolicy\u001B[38;5;241m.\u001B[39mtraining\n",
      "File \u001B[0;32m~/Documents/PIK/sb3-contrib/venv/lib/python3.10/site-packages/stable_baselines3/common/off_policy_algorithm.py:284\u001B[0m, in \u001B[0;36mOffPolicyAlgorithm._setup_learn\u001B[0;34m(self, total_timesteps, callback, reset_num_timesteps, tb_log_name, progress_bar)\u001B[0m\n\u001B[1;32m    281\u001B[0m     pos \u001B[38;5;241m=\u001B[39m (replay_buffer\u001B[38;5;241m.\u001B[39mpos \u001B[38;5;241m-\u001B[39m \u001B[38;5;241m1\u001B[39m) \u001B[38;5;241m%\u001B[39m replay_buffer\u001B[38;5;241m.\u001B[39mbuffer_size\n\u001B[1;32m    282\u001B[0m     replay_buffer\u001B[38;5;241m.\u001B[39mdones[pos] \u001B[38;5;241m=\u001B[39m \u001B[38;5;28;01mTrue\u001B[39;00m\n\u001B[0;32m--> 284\u001B[0m \u001B[38;5;28;01mreturn\u001B[39;00m \u001B[38;5;28;43msuper\u001B[39;49m\u001B[43m(\u001B[49m\u001B[43m)\u001B[49m\u001B[38;5;241;43m.\u001B[39;49m\u001B[43m_setup_learn\u001B[49m\u001B[43m(\u001B[49m\n\u001B[1;32m    285\u001B[0m \u001B[43m    \u001B[49m\u001B[43mtotal_timesteps\u001B[49m\u001B[43m,\u001B[49m\n\u001B[1;32m    286\u001B[0m \u001B[43m    \u001B[49m\u001B[43mcallback\u001B[49m\u001B[43m,\u001B[49m\n\u001B[1;32m    287\u001B[0m \u001B[43m    \u001B[49m\u001B[43mreset_num_timesteps\u001B[49m\u001B[43m,\u001B[49m\n\u001B[1;32m    288\u001B[0m \u001B[43m    \u001B[49m\u001B[43mtb_log_name\u001B[49m\u001B[43m,\u001B[49m\n\u001B[1;32m    289\u001B[0m \u001B[43m    \u001B[49m\u001B[43mprogress_bar\u001B[49m\u001B[43m,\u001B[49m\n\u001B[1;32m    290\u001B[0m \u001B[43m\u001B[49m\u001B[43m)\u001B[49m\n",
      "File \u001B[0;32m~/Documents/PIK/sb3-contrib/venv/lib/python3.10/site-packages/stable_baselines3/common/base_class.py:424\u001B[0m, in \u001B[0;36mBaseAlgorithm._setup_learn\u001B[0;34m(self, total_timesteps, callback, reset_num_timesteps, tb_log_name, progress_bar)\u001B[0m\n\u001B[1;32m    422\u001B[0m \u001B[38;5;28;01massert\u001B[39;00m \u001B[38;5;28mself\u001B[39m\u001B[38;5;241m.\u001B[39menv \u001B[38;5;129;01mis\u001B[39;00m \u001B[38;5;129;01mnot\u001B[39;00m \u001B[38;5;28;01mNone\u001B[39;00m\n\u001B[1;32m    423\u001B[0m \u001B[38;5;66;03m# pytype: disable=annotation-type-mismatch\u001B[39;00m\n\u001B[0;32m--> 424\u001B[0m \u001B[38;5;28mself\u001B[39m\u001B[38;5;241m.\u001B[39m_last_obs \u001B[38;5;241m=\u001B[39m \u001B[38;5;28;43mself\u001B[39;49m\u001B[38;5;241;43m.\u001B[39;49m\u001B[43menv\u001B[49m\u001B[38;5;241;43m.\u001B[39;49m\u001B[43mreset\u001B[49m\u001B[43m(\u001B[49m\u001B[43m)\u001B[49m  \u001B[38;5;66;03m# type: ignore[assignment]\u001B[39;00m\n\u001B[1;32m    425\u001B[0m \u001B[38;5;66;03m# pytype: enable=annotation-type-mismatch\u001B[39;00m\n\u001B[1;32m    426\u001B[0m \u001B[38;5;28mself\u001B[39m\u001B[38;5;241m.\u001B[39m_last_episode_starts \u001B[38;5;241m=\u001B[39m np\u001B[38;5;241m.\u001B[39mones((\u001B[38;5;28mself\u001B[39m\u001B[38;5;241m.\u001B[39menv\u001B[38;5;241m.\u001B[39mnum_envs,), dtype\u001B[38;5;241m=\u001B[39m\u001B[38;5;28mbool\u001B[39m)\n",
      "File \u001B[0;32m~/Documents/PIK/sb3-contrib/venv/lib/python3.10/site-packages/stable_baselines3/common/vec_env/dummy_vec_env.py:77\u001B[0m, in \u001B[0;36mDummyVecEnv.reset\u001B[0;34m(self)\u001B[0m\n\u001B[1;32m     75\u001B[0m \u001B[38;5;28;01mfor\u001B[39;00m env_idx \u001B[38;5;129;01min\u001B[39;00m \u001B[38;5;28mrange\u001B[39m(\u001B[38;5;28mself\u001B[39m\u001B[38;5;241m.\u001B[39mnum_envs):\n\u001B[1;32m     76\u001B[0m     obs, \u001B[38;5;28mself\u001B[39m\u001B[38;5;241m.\u001B[39mreset_infos[env_idx] \u001B[38;5;241m=\u001B[39m \u001B[38;5;28mself\u001B[39m\u001B[38;5;241m.\u001B[39menvs[env_idx]\u001B[38;5;241m.\u001B[39mreset(seed\u001B[38;5;241m=\u001B[39m\u001B[38;5;28mself\u001B[39m\u001B[38;5;241m.\u001B[39m_seeds[env_idx])\n\u001B[0;32m---> 77\u001B[0m     \u001B[38;5;28;43mself\u001B[39;49m\u001B[38;5;241;43m.\u001B[39;49m\u001B[43m_save_obs\u001B[49m\u001B[43m(\u001B[49m\u001B[43menv_idx\u001B[49m\u001B[43m,\u001B[49m\u001B[43m \u001B[49m\u001B[43mobs\u001B[49m\u001B[43m)\u001B[49m\n\u001B[1;32m     78\u001B[0m \u001B[38;5;66;03m# Seeds are only used once\u001B[39;00m\n\u001B[1;32m     79\u001B[0m \u001B[38;5;28mself\u001B[39m\u001B[38;5;241m.\u001B[39m_reset_seeds()\n",
      "File \u001B[0;32m~/Documents/PIK/sb3-contrib/venv/lib/python3.10/site-packages/stable_baselines3/common/vec_env/dummy_vec_env.py:106\u001B[0m, in \u001B[0;36mDummyVecEnv._save_obs\u001B[0;34m(self, env_idx, obs)\u001B[0m\n\u001B[1;32m    104\u001B[0m \u001B[38;5;28;01mfor\u001B[39;00m key \u001B[38;5;129;01min\u001B[39;00m \u001B[38;5;28mself\u001B[39m\u001B[38;5;241m.\u001B[39mkeys:\n\u001B[1;32m    105\u001B[0m     \u001B[38;5;28;01mif\u001B[39;00m key \u001B[38;5;129;01mis\u001B[39;00m \u001B[38;5;28;01mNone\u001B[39;00m:\n\u001B[0;32m--> 106\u001B[0m         \u001B[38;5;28;43mself\u001B[39;49m\u001B[38;5;241;43m.\u001B[39;49m\u001B[43mbuf_obs\u001B[49m\u001B[43m[\u001B[49m\u001B[43mkey\u001B[49m\u001B[43m]\u001B[49m\u001B[43m[\u001B[49m\u001B[43menv_idx\u001B[49m\u001B[43m]\u001B[49m \u001B[38;5;241m=\u001B[39m obs\n\u001B[1;32m    107\u001B[0m     \u001B[38;5;28;01melse\u001B[39;00m:\n\u001B[1;32m    108\u001B[0m         \u001B[38;5;28mself\u001B[39m\u001B[38;5;241m.\u001B[39mbuf_obs[key][env_idx] \u001B[38;5;241m=\u001B[39m obs[key]\n",
      "\u001B[0;31mValueError\u001B[0m: setting an array element with a sequence."
     ]
    }
   ],
   "source": [
    "aspirations = np.linspace(1, nb_step * max(values), num=11)\n",
    "aspirations = [100, 200, 300]\n",
    "ar_env = make_env()io\n",
    "eval_env = Monitor(make_env())\n",
    "for a in tqdm(aspirations):\n",
    "    initial_aspiration = a\n",
    "    ar_model = ArDQN('MlpPolicy', ar_env, learning_starts=0, policy_kwargs=dict(initial_aspiration=initial_aspiration))\n",
    "    ar_path = path.join(env_id, \"AR_DQN\", str(round(initial_aspiration, 1)))\n",
    "    ar_model.set_logger(tb_logger(ar_path))\n",
    "    ar_model.learn(LEARNING_STEPS)\n",
    "    (e, std), _ = ar_evaluate_policy(ar_model, eval_env, n_eval_episodes=500)\n",
    "    print(f\"aspiration : {round(a)}, res : {round(e)}+/-{round(std)}\")\n",
    "    ar_model.save(path.join(tmp_path, ar_path, \"models\", \"_\".join([str(LEARNING_STEPS)])))"
   ],
   "metadata": {
    "collapsed": false
   }
  },
  {
   "cell_type": "markdown",
   "source": [
    "## Run"
   ],
   "metadata": {
    "collapsed": false
   }
  },
  {
   "cell_type": "code",
   "execution_count": 16,
   "outputs": [
    {
     "data": {
      "text/plain": "<sb3_contrib.ar_dqn.ar_dqn.ArDQN at 0x7fbea2ea8310>"
     },
     "execution_count": 16,
     "metadata": {},
     "output_type": "execute_result"
    }
   ],
   "source": [],
   "metadata": {
    "collapsed": false,
    "ExecuteTime": {
     "end_time": "2023-06-26T17:09:35.235603303Z",
     "start_time": "2023-06-26T17:04:36.005110300Z"
    }
   }
  },
  {
   "cell_type": "code",
   "execution_count": 8,
   "outputs": [
    {
     "data": {
      "text/plain": "<sb3_contrib.dqn.dqn.DQN at 0x7fbdd901b940>"
     },
     "execution_count": 8,
     "metadata": {},
     "output_type": "execute_result"
    }
   ],
   "source": [],
   "metadata": {
    "collapsed": false,
    "ExecuteTime": {
     "end_time": "2023-06-26T16:55:20.461187986Z",
     "start_time": "2023-06-26T16:53:38.198225037Z"
    }
   }
  },
  {
   "cell_type": "markdown",
   "source": [
    "# Evaluation"
   ],
   "metadata": {
    "collapsed": false
   }
  },
  {
   "cell_type": "code",
   "execution_count": null,
   "outputs": [],
   "source": [],
   "metadata": {
    "collapsed": false
   }
  },
  {
   "cell_type": "code",
   "execution_count": 5,
   "outputs": [],
   "source": [
    "h_env = Monitor(make_env())"
   ],
   "metadata": {
    "collapsed": false,
    "ExecuteTime": {
     "end_time": "2023-06-28T15:08:39.203977455Z",
     "start_time": "2023-06-28T15:08:39.158993997Z"
    }
   }
  },
  {
   "cell_type": "code",
   "execution_count": 6,
   "outputs": [
    {
     "ename": "NameError",
     "evalue": "name 'model' is not defined",
     "output_type": "error",
     "traceback": [
      "\u001B[0;31m---------------------------------------------------------------------------\u001B[0m",
      "\u001B[0;31mNameError\u001B[0m                                 Traceback (most recent call last)",
      "Cell \u001B[0;32mIn[6], line 1\u001B[0m\n\u001B[0;32m----> 1\u001B[0m evaluate_policy(\u001B[43mmodel\u001B[49m, h_env, n_eval_episodes\u001B[38;5;241m=\u001B[39m\u001B[38;5;241m10\u001B[39m, render\u001B[38;5;241m=\u001B[39m\u001B[38;5;28;01mTrue\u001B[39;00m)\n",
      "\u001B[0;31mNameError\u001B[0m: name 'model' is not defined"
     ]
    }
   ],
   "source": [
    "evaluate_policy(model, h_env, n_eval_episodes=10, render=True)"
   ],
   "metadata": {
    "collapsed": false,
    "ExecuteTime": {
     "end_time": "2023-06-28T15:08:40.773001968Z",
     "start_time": "2023-06-28T15:08:40.759891733Z"
    }
   }
  },
  {
   "cell_type": "code",
   "execution_count": 10,
   "outputs": [
    {
     "ename": "AttributeError",
     "evalue": "'tuple' object has no attribute 'long'",
     "output_type": "error",
     "traceback": [
      "\u001B[0;31m---------------------------------------------------------------------------\u001B[0m",
      "\u001B[0;31mAttributeError\u001B[0m                            Traceback (most recent call last)",
      "Cell \u001B[0;32mIn[10], line 8\u001B[0m\n\u001B[1;32m      6\u001B[0m ar_path \u001B[38;5;241m=\u001B[39m path\u001B[38;5;241m.\u001B[39mjoin(\u001B[38;5;124m\"\u001B[39m\u001B[38;5;124mAR_DQN\u001B[39m\u001B[38;5;124m\"\u001B[39m, \u001B[38;5;28mstr\u001B[39m(a))\n\u001B[1;32m      7\u001B[0m ar_model \u001B[38;5;241m=\u001B[39m ArDQN\u001B[38;5;241m.\u001B[39mload(path\u001B[38;5;241m.\u001B[39mjoin(tmp_path, ar_path, \u001B[38;5;124m\"\u001B[39m\u001B[38;5;124mmodels\u001B[39m\u001B[38;5;124m\"\u001B[39m, \u001B[38;5;124m\"\u001B[39m\u001B[38;5;124m_\u001B[39m\u001B[38;5;124m\"\u001B[39m\u001B[38;5;241m.\u001B[39mjoin([\u001B[38;5;28mstr\u001B[39m(LEARNING_STEPS)])))\n\u001B[0;32m----> 8\u001B[0m m, std, lambdas, asp \u001B[38;5;241m=\u001B[39m \u001B[43mar_evaluate_policy\u001B[49m\u001B[43m(\u001B[49m\u001B[43mar_model\u001B[49m\u001B[43m,\u001B[49m\u001B[43m \u001B[49m\u001B[43mh_env\u001B[49m\u001B[43m,\u001B[49m\u001B[43m \u001B[49m\u001B[38;5;241;43m1\u001B[39;49m\u001B[43m)\u001B[49m\n\u001B[1;32m      9\u001B[0m plt\u001B[38;5;241m.\u001B[39mplot(lambdas)\n\u001B[1;32m     10\u001B[0m plt\u001B[38;5;241m.\u001B[39mplot(asp)\n",
      "File \u001B[0;32m~/Documents/PIK/sb3-contrib/sb3_contrib/common/satisficing/evaluation.py:88\u001B[0m, in \u001B[0;36mevaluate_policy\u001B[0;34m(model, env, n_eval_episodes, deterministic, render, callback, reward_threshold, return_episode_rewards, warn)\u001B[0m\n\u001B[1;32m     86\u001B[0m episode_starts \u001B[38;5;241m=\u001B[39m np\u001B[38;5;241m.\u001B[39mones((env\u001B[38;5;241m.\u001B[39mnum_envs,), dtype\u001B[38;5;241m=\u001B[39m\u001B[38;5;28mbool\u001B[39m)\n\u001B[1;32m     87\u001B[0m model\u001B[38;5;241m.\u001B[39mswitch_to_eval()\n\u001B[0;32m---> 88\u001B[0m q \u001B[38;5;241m=\u001B[39m \u001B[43mmodel\u001B[49m\u001B[38;5;241;43m.\u001B[39;49m\u001B[43mq_net\u001B[49m\u001B[43m(\u001B[49m\u001B[43mmodel\u001B[49m\u001B[38;5;241;43m.\u001B[39;49m\u001B[43mpolicy\u001B[49m\u001B[38;5;241;43m.\u001B[39;49m\u001B[43mobs_to_tensor\u001B[49m\u001B[43m(\u001B[49m\u001B[43mobservations\u001B[49m\u001B[43m)\u001B[49m\u001B[43m)\u001B[49m\n\u001B[1;32m     89\u001B[0m lambdas \u001B[38;5;241m=\u001B[39m [ratio(q\u001B[38;5;241m.\u001B[39mmin(), model\u001B[38;5;241m.\u001B[39mpolicy\u001B[38;5;241m.\u001B[39minitial_aspiration, q\u001B[38;5;241m.\u001B[39mmax())]\n\u001B[1;32m     90\u001B[0m aspirations \u001B[38;5;241m=\u001B[39m [model\u001B[38;5;241m.\u001B[39mpolicy\u001B[38;5;241m.\u001B[39maspiration]\n",
      "File \u001B[0;32m~/Documents/PIK/sb3-contrib/venv/lib/python3.10/site-packages/torch/nn/modules/module.py:1501\u001B[0m, in \u001B[0;36mModule._call_impl\u001B[0;34m(self, *args, **kwargs)\u001B[0m\n\u001B[1;32m   1496\u001B[0m \u001B[38;5;66;03m# If we don't have any hooks, we want to skip the rest of the logic in\u001B[39;00m\n\u001B[1;32m   1497\u001B[0m \u001B[38;5;66;03m# this function, and just call forward.\u001B[39;00m\n\u001B[1;32m   1498\u001B[0m \u001B[38;5;28;01mif\u001B[39;00m \u001B[38;5;129;01mnot\u001B[39;00m (\u001B[38;5;28mself\u001B[39m\u001B[38;5;241m.\u001B[39m_backward_hooks \u001B[38;5;129;01mor\u001B[39;00m \u001B[38;5;28mself\u001B[39m\u001B[38;5;241m.\u001B[39m_backward_pre_hooks \u001B[38;5;129;01mor\u001B[39;00m \u001B[38;5;28mself\u001B[39m\u001B[38;5;241m.\u001B[39m_forward_hooks \u001B[38;5;129;01mor\u001B[39;00m \u001B[38;5;28mself\u001B[39m\u001B[38;5;241m.\u001B[39m_forward_pre_hooks\n\u001B[1;32m   1499\u001B[0m         \u001B[38;5;129;01mor\u001B[39;00m _global_backward_pre_hooks \u001B[38;5;129;01mor\u001B[39;00m _global_backward_hooks\n\u001B[1;32m   1500\u001B[0m         \u001B[38;5;129;01mor\u001B[39;00m _global_forward_hooks \u001B[38;5;129;01mor\u001B[39;00m _global_forward_pre_hooks):\n\u001B[0;32m-> 1501\u001B[0m     \u001B[38;5;28;01mreturn\u001B[39;00m \u001B[43mforward_call\u001B[49m\u001B[43m(\u001B[49m\u001B[38;5;241;43m*\u001B[39;49m\u001B[43margs\u001B[49m\u001B[43m,\u001B[49m\u001B[43m \u001B[49m\u001B[38;5;241;43m*\u001B[39;49m\u001B[38;5;241;43m*\u001B[39;49m\u001B[43mkwargs\u001B[49m\u001B[43m)\u001B[49m\n\u001B[1;32m   1502\u001B[0m \u001B[38;5;66;03m# Do not call functions when jit is used\u001B[39;00m\n\u001B[1;32m   1503\u001B[0m full_backward_hooks, non_full_backward_hooks \u001B[38;5;241m=\u001B[39m [], []\n",
      "File \u001B[0;32m~/Documents/PIK/sb3-contrib/venv/lib/python3.10/site-packages/stable_baselines3/dqn/policies.py:66\u001B[0m, in \u001B[0;36mQNetwork.forward\u001B[0;34m(self, obs)\u001B[0m\n\u001B[1;32m     59\u001B[0m \u001B[38;5;28;01mdef\u001B[39;00m \u001B[38;5;21mforward\u001B[39m(\u001B[38;5;28mself\u001B[39m, obs: th\u001B[38;5;241m.\u001B[39mTensor) \u001B[38;5;241m-\u001B[39m\u001B[38;5;241m>\u001B[39m th\u001B[38;5;241m.\u001B[39mTensor:\n\u001B[1;32m     60\u001B[0m \u001B[38;5;250m    \u001B[39m\u001B[38;5;124;03m\"\"\"\u001B[39;00m\n\u001B[1;32m     61\u001B[0m \u001B[38;5;124;03m    Predict the q-values.\u001B[39;00m\n\u001B[1;32m     62\u001B[0m \n\u001B[1;32m     63\u001B[0m \u001B[38;5;124;03m    :param obs: Observation\u001B[39;00m\n\u001B[1;32m     64\u001B[0m \u001B[38;5;124;03m    :return: The estimated Q-Value for each action.\u001B[39;00m\n\u001B[1;32m     65\u001B[0m \u001B[38;5;124;03m    \"\"\"\u001B[39;00m\n\u001B[0;32m---> 66\u001B[0m     \u001B[38;5;28;01mreturn\u001B[39;00m \u001B[38;5;28mself\u001B[39m\u001B[38;5;241m.\u001B[39mq_net(\u001B[38;5;28;43mself\u001B[39;49m\u001B[38;5;241;43m.\u001B[39;49m\u001B[43mextract_features\u001B[49m\u001B[43m(\u001B[49m\u001B[43mobs\u001B[49m\u001B[43m,\u001B[49m\u001B[43m \u001B[49m\u001B[38;5;28;43mself\u001B[39;49m\u001B[38;5;241;43m.\u001B[39;49m\u001B[43mfeatures_extractor\u001B[49m\u001B[43m)\u001B[49m)\n",
      "File \u001B[0;32m~/Documents/PIK/sb3-contrib/venv/lib/python3.10/site-packages/stable_baselines3/common/policies.py:130\u001B[0m, in \u001B[0;36mBaseModel.extract_features\u001B[0;34m(self, obs, features_extractor)\u001B[0m\n\u001B[1;32m    122\u001B[0m \u001B[38;5;28;01mdef\u001B[39;00m \u001B[38;5;21mextract_features\u001B[39m(\u001B[38;5;28mself\u001B[39m, obs: th\u001B[38;5;241m.\u001B[39mTensor, features_extractor: BaseFeaturesExtractor) \u001B[38;5;241m-\u001B[39m\u001B[38;5;241m>\u001B[39m th\u001B[38;5;241m.\u001B[39mTensor:\n\u001B[1;32m    123\u001B[0m \u001B[38;5;250m    \u001B[39m\u001B[38;5;124;03m\"\"\"\u001B[39;00m\n\u001B[1;32m    124\u001B[0m \u001B[38;5;124;03m    Preprocess the observation if needed and extract features.\u001B[39;00m\n\u001B[1;32m    125\u001B[0m \n\u001B[0;32m   (...)\u001B[0m\n\u001B[1;32m    128\u001B[0m \u001B[38;5;124;03m     :return: The extracted features\u001B[39;00m\n\u001B[1;32m    129\u001B[0m \u001B[38;5;124;03m    \"\"\"\u001B[39;00m\n\u001B[0;32m--> 130\u001B[0m     preprocessed_obs \u001B[38;5;241m=\u001B[39m \u001B[43mpreprocess_obs\u001B[49m\u001B[43m(\u001B[49m\u001B[43mobs\u001B[49m\u001B[43m,\u001B[49m\u001B[43m \u001B[49m\u001B[38;5;28;43mself\u001B[39;49m\u001B[38;5;241;43m.\u001B[39;49m\u001B[43mobservation_space\u001B[49m\u001B[43m,\u001B[49m\u001B[43m \u001B[49m\u001B[43mnormalize_images\u001B[49m\u001B[38;5;241;43m=\u001B[39;49m\u001B[38;5;28;43mself\u001B[39;49m\u001B[38;5;241;43m.\u001B[39;49m\u001B[43mnormalize_images\u001B[49m\u001B[43m)\u001B[49m\n\u001B[1;32m    131\u001B[0m     \u001B[38;5;28;01mreturn\u001B[39;00m features_extractor(preprocessed_obs)\n",
      "File \u001B[0;32m~/Documents/PIK/sb3-contrib/venv/lib/python3.10/site-packages/stable_baselines3/common/preprocessing.py:115\u001B[0m, in \u001B[0;36mpreprocess_obs\u001B[0;34m(obs, observation_space, normalize_images)\u001B[0m\n\u001B[1;32m    111\u001B[0m     \u001B[38;5;28;01mreturn\u001B[39;00m obs\u001B[38;5;241m.\u001B[39mfloat()\n\u001B[1;32m    113\u001B[0m \u001B[38;5;28;01melif\u001B[39;00m \u001B[38;5;28misinstance\u001B[39m(observation_space, spaces\u001B[38;5;241m.\u001B[39mDiscrete):\n\u001B[1;32m    114\u001B[0m     \u001B[38;5;66;03m# One hot encoding and convert to float to avoid errors\u001B[39;00m\n\u001B[0;32m--> 115\u001B[0m     \u001B[38;5;28;01mreturn\u001B[39;00m F\u001B[38;5;241m.\u001B[39mone_hot(\u001B[43mobs\u001B[49m\u001B[38;5;241;43m.\u001B[39;49m\u001B[43mlong\u001B[49m(), num_classes\u001B[38;5;241m=\u001B[39mobservation_space\u001B[38;5;241m.\u001B[39mn)\u001B[38;5;241m.\u001B[39mfloat()\n\u001B[1;32m    117\u001B[0m \u001B[38;5;28;01melif\u001B[39;00m \u001B[38;5;28misinstance\u001B[39m(observation_space, spaces\u001B[38;5;241m.\u001B[39mMultiDiscrete):\n\u001B[1;32m    118\u001B[0m     \u001B[38;5;66;03m# Tensor concatenation of one hot encodings of each Categorical sub-space\u001B[39;00m\n\u001B[1;32m    119\u001B[0m     \u001B[38;5;28;01mreturn\u001B[39;00m th\u001B[38;5;241m.\u001B[39mcat(\n\u001B[1;32m    120\u001B[0m         [\n\u001B[1;32m    121\u001B[0m             F\u001B[38;5;241m.\u001B[39mone_hot(obs_\u001B[38;5;241m.\u001B[39mlong(), num_classes\u001B[38;5;241m=\u001B[39m\u001B[38;5;28mint\u001B[39m(observation_space\u001B[38;5;241m.\u001B[39mnvec[idx]))\u001B[38;5;241m.\u001B[39mfloat()\n\u001B[0;32m   (...)\u001B[0m\n\u001B[1;32m    124\u001B[0m         dim\u001B[38;5;241m=\u001B[39m\u001B[38;5;241m-\u001B[39m\u001B[38;5;241m1\u001B[39m,\n\u001B[1;32m    125\u001B[0m     )\u001B[38;5;241m.\u001B[39mview(obs\u001B[38;5;241m.\u001B[39mshape[\u001B[38;5;241m0\u001B[39m], \u001B[38;5;28msum\u001B[39m(observation_space\u001B[38;5;241m.\u001B[39mnvec))\n",
      "\u001B[0;31mAttributeError\u001B[0m: 'tuple' object has no attribute 'long'"
     ]
    }
   ],
   "source": [
    "tmp_path = \"logs/tests/20230628-112517/MultiarmedBandits-1-5-99/\"\n",
    "aspirations = np.linspace(1, nb_step * max(values), num=11)\n",
    "\n",
    "# ar_model = ArDQN.load()\n",
    "for a in aspirations:\n",
    "    ar_path = path.join(\"AR_DQN\", str(a))\n",
    "    ar_model = ArDQN.load(path.join(tmp_path, ar_path, \"models\", \"_\".join([str(LEARNING_STEPS)])))\n",
    "    m, std, lambdas, asp = ar_evaluate_policy(ar_model, h_env, 1)\n",
    "    plt.plot(lambdas)\n",
    "    plt.plot(asp)\n"
   ],
   "metadata": {
    "collapsed": false
   }
  },
  {
   "cell_type": "code",
   "execution_count": 11,
   "outputs": [
    {
     "name": "stderr",
     "output_type": "stream",
     "text": [
      "/home/clement/Documents/PIK/sb3-contrib/venv/lib/python3.10/site-packages/stable_baselines3/common/save_util.py:278: UserWarning: Path 'logs/tests/20230626-215548/MultiarmedBandits-1-5-99/AR_DQN/50/models' does not exist. Will create it.\n",
      "  warnings.warn(f\"Path '{path.parent}' does not exist. Will create it.\")\n"
     ]
    }
   ],
   "source": [],
   "metadata": {
    "collapsed": false
   }
  },
  {
   "cell_type": "code",
   "execution_count": null,
   "outputs": [],
   "source": [
    "model.save(path.join(tmp_path, dqn_path, \"models\", \"_\".join([str(LEARNING_STEPS)])))"
   ],
   "metadata": {
    "collapsed": false
   }
  },
  {
   "cell_type": "code",
   "execution_count": null,
   "outputs": [],
   "source": [],
   "metadata": {
    "collapsed": false
   }
  },
  {
   "cell_type": "code",
   "execution_count": null,
   "outputs": [],
   "source": [],
   "metadata": {
    "collapsed": false
   }
  },
  {
   "cell_type": "markdown",
   "source": [
    "# Tabular version"
   ],
   "metadata": {
    "collapsed": false
   }
  },
  {
   "cell_type": "code",
   "execution_count": 17,
   "outputs": [],
   "source": [
    "env = make_env(obs_type=None)\n",
    "model = QLearning(env)"
   ],
   "metadata": {
    "collapsed": false,
    "ExecuteTime": {
     "end_time": "2023-06-30T14:43:14.052583262Z",
     "start_time": "2023-06-30T14:43:14.010822717Z"
    }
   }
  },
  {
   "cell_type": "code",
   "execution_count": 18,
   "outputs": [
    {
     "ename": "AttributeError",
     "evalue": "'QLearning' object has no attribute 'exploration_schedule'",
     "output_type": "error",
     "traceback": [
      "\u001B[0;31m---------------------------------------------------------------------------\u001B[0m",
      "\u001B[0;31mAttributeError\u001B[0m                            Traceback (most recent call last)",
      "Cell \u001B[0;32mIn[18], line 1\u001B[0m\n\u001B[0;32m----> 1\u001B[0m \u001B[43mmodel\u001B[49m\u001B[38;5;241;43m.\u001B[39;49m\u001B[43mlearn\u001B[49m\u001B[43m(\u001B[49m\u001B[43mLEARNING_STEPS\u001B[49m\u001B[43m)\u001B[49m\n",
      "File \u001B[0;32m~/Documents/PIK/sb3-contrib/sb3_contrib/q_learning/q_learning.py:129\u001B[0m, in \u001B[0;36mQLearning.learn\u001B[0;34m(self, total_timesteps, callback, log_interval, tb_log_name, reset_num_timesteps, progress_bar)\u001B[0m\n\u001B[1;32m    127\u001B[0m obs \u001B[38;5;241m=\u001B[39m \u001B[38;5;28mself\u001B[39m\u001B[38;5;241m.\u001B[39menv\u001B[38;5;241m.\u001B[39mreset()\n\u001B[1;32m    128\u001B[0m \u001B[38;5;28;01mwhile\u001B[39;00m \u001B[38;5;28mself\u001B[39m\u001B[38;5;241m.\u001B[39mnum_timesteps \u001B[38;5;241m<\u001B[39m total_timesteps:\n\u001B[0;32m--> 129\u001B[0m     \u001B[38;5;28mself\u001B[39m\u001B[38;5;241m.\u001B[39mexploration_rate \u001B[38;5;241m=\u001B[39m \u001B[38;5;28;43mself\u001B[39;49m\u001B[38;5;241;43m.\u001B[39;49m\u001B[43mexploration_schedule\u001B[49m(\u001B[38;5;28mself\u001B[39m\u001B[38;5;241m.\u001B[39m_current_progress_remaining)\n\u001B[1;32m    130\u001B[0m     learning_rate \u001B[38;5;241m=\u001B[39m \u001B[38;5;28mself\u001B[39m\u001B[38;5;241m.\u001B[39mlr_schedule(\u001B[38;5;28mself\u001B[39m\u001B[38;5;241m.\u001B[39m_current_progress_remaining)\n\u001B[1;32m    132\u001B[0m     action \u001B[38;5;241m=\u001B[39m \u001B[38;5;28mself\u001B[39m\u001B[38;5;241m.\u001B[39mpredict(obs)[\u001B[38;5;241m0\u001B[39m]\n",
      "\u001B[0;31mAttributeError\u001B[0m: 'QLearning' object has no attribute 'exploration_schedule'"
     ]
    }
   ],
   "source": [
    "model.learn(LEARNING_STEPS)"
   ],
   "metadata": {
    "collapsed": false,
    "ExecuteTime": {
     "end_time": "2023-06-30T14:43:14.416322019Z",
     "start_time": "2023-06-30T14:43:14.389457222Z"
    }
   }
  },
  {
   "cell_type": "code",
   "execution_count": null,
   "outputs": [],
   "source": [],
   "metadata": {
    "collapsed": false
   }
  }
 ],
 "metadata": {
  "kernelspec": {
   "display_name": "Python 3",
   "language": "python",
   "name": "python3"
  },
  "language_info": {
   "codemirror_mode": {
    "name": "ipython",
    "version": 2
   },
   "file_extension": ".py",
   "mimetype": "text/x-python",
   "name": "python",
   "nbconvert_exporter": "python",
   "pygments_lexer": "ipython2",
   "version": "2.7.6"
  }
 },
 "nbformat": 4,
 "nbformat_minor": 0
}
